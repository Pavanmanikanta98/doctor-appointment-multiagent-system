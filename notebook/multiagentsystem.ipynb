{
 "cells": [
  {
   "cell_type": "code",
   "execution_count": 88,
   "metadata": {},
   "outputs": [],
   "source": [
    "import re\n",
    "import pandas as pd\n",
    "from typing import  Literal,List,Any\n",
    "from langchain_core.tools import tool\n",
    "from pydantic import BaseModel\n",
    "from langchain_groq import ChatGroq\n",
    "from langgraph.types import Command\n",
    "from langgraph.graph.message import add_messages\n",
    "from typing_extensions import TypedDict, Annotated\n",
    "from langchain_core.prompts.chat import ChatPromptTemplate\n",
    "from langgraph.graph import START, StateGraph,END\n",
    "from langgraph.prebuilt import create_react_agent\n",
    "from pydantic import BaseModel, Field, field_validator\n",
    "from langchain_core.messages import HumanMessage,AIMessage\n",
    "from langchain_core.prompts import ChatPromptTemplate, MessagesPlaceholder\n",
    "# from langchain_openai import ChatOpenAI\n",
    "from dotenv import load_dotenv"
   ]
  },
  {
   "cell_type": "code",
   "execution_count": 89,
   "metadata": {},
   "outputs": [],
   "source": [
    "import os\n",
    "\n",
    "load_dotenv()\n",
    "groq_api_key = os.getenv(\"GROQ_API_KEY\") \n",
    "GOOGLE_API_KEY=os.getenv(\"GOOGLE_API_KEY\")\n",
    "os.environ[\"GOOGLE_API_KEY\"] = GOOGLE_API_KEY\n",
    "os.environ[\"GROQ_API_KEY\"] = groq_api_key\n",
    "\n"
   ]
  },
  {
   "cell_type": "code",
   "execution_count": 239,
   "metadata": {},
   "outputs": [],
   "source": [
    "\n",
    "groq_model = ChatGroq(\n",
    "    # model=\"llama3-8b-8192\",\n",
    "      model=\"qwen-qwq-32b\"\n",
    "    # api_key=groq_api_key  # Secure API key usage\n",
    ")\n",
    "\n",
    "\n",
    "# from langchain_groq import ChatGroq\n",
    "# llm=ChatGroq(model_name=\"Gemma2-9b-It\")\n",
    "\n",
    "# from langchain_google_genai import ChatGoogleGenerativeAI\n",
    "# groq_model = ChatGoogleGenerativeAI(model=\"gemini-2.0-flash\")\n",
    "\n",
    "#gemma-3-4b-it"
   ]
  },
  {
   "cell_type": "code",
   "execution_count": null,
   "metadata": {},
   "outputs": [],
   "source": [
    "from langchain_google_genai import ChatGoogleGenerativeAI\n",
    "gemini = ChatGoogleGenerativeAI(model=\"gemma-3-4b-it\")\n",
    "# gemini = ChatGoogleGenerativeAI(model=\"gemini-1.5-pro\")\n"
   ]
  },
  {
   "cell_type": "code",
   "execution_count": null,
   "metadata": {},
   "outputs": [],
   "source": [
    "gemini.invoke(\"hi\").content"
   ]
  },
  {
   "cell_type": "code",
   "execution_count": 240,
   "metadata": {},
   "outputs": [
    {
     "data": {
      "text/plain": [
       "AIMessage(content='\\n<think>\\nOkay, the user said \"hi\". I should respond in a friendly way. Maybe ask how I can assist them today. Keep it simple and open-ended so they feel comfortable to ask anything. Let me make sure there\\'s no markdown here. Alright, that should work.\\n</think>\\n\\nHi! 😊 How can I assist you today?', additional_kwargs={}, response_metadata={'token_usage': {'completion_tokens': 69, 'prompt_tokens': 11, 'total_tokens': 80, 'completion_time': 0.160001104, 'prompt_time': 0.003189006, 'queue_time': 0.317866603, 'total_time': 0.16319011}, 'model_name': 'qwen-qwq-32b', 'system_fingerprint': 'fp_a91d9c2cfb', 'finish_reason': 'stop', 'logprobs': None}, id='run-0e3e530c-d536-4729-9883-654e12a77595-0', usage_metadata={'input_tokens': 11, 'output_tokens': 69, 'total_tokens': 80})"
      ]
     },
     "execution_count": 240,
     "metadata": {},
     "output_type": "execute_result"
    }
   ],
   "source": [
    "groq_model.invoke(\"hi\")"
   ]
  },
  {
   "cell_type": "code",
   "execution_count": 92,
   "metadata": {},
   "outputs": [],
   "source": [
    "class DateTimeModel(BaseModel):\n",
    "    date: str = Field(description=\"Properly formatted date\", pattern=r'^\\d{2}-\\d{2}-\\d{4} \\d{2}:\\d{2}$')\n",
    "\n",
    "    @field_validator(\"date\")\n",
    "    def check_format_date(cls, v):\n",
    "        if not re.match(r'^\\d{2}-\\d{2}-\\d{4} \\d{2}:\\d{2}$', v):  # Ensures 'DD-MM-YYYY HH:MM' format\n",
    "            raise ValueError(\"The date should be in format 'DD-MM-YYYY HH:MM'\")\n",
    "        return v"
   ]
  },
  {
   "cell_type": "code",
   "execution_count": 93,
   "metadata": {},
   "outputs": [],
   "source": [
    "class DateModel(BaseModel):\n",
    "    date: str = Field(description=\"Properly formatted date\", pattern=r'^\\d{2}-\\d{2}-\\d{4}$')\n",
    "\n",
    "    @field_validator(\"date\")\n",
    "    def check_format_date(cls, v):\n",
    "        if not re.match(r'^\\d{2}-\\d{2}-\\d{4}$', v):  # Ensures DD-MM-YYYY format\n",
    "            raise ValueError(\"The date must be in the format 'DD-MM-YYYY'\")\n",
    "        return v"
   ]
  },
  {
   "cell_type": "code",
   "execution_count": 94,
   "metadata": {},
   "outputs": [],
   "source": [
    "class IdentificationNumberModel(BaseModel):\n",
    "    id: int = Field(description=\"Identification number (7 or 8 digits long)\")\n",
    "    @field_validator(\"id\")\n",
    "    def check_format_id(cls, v):\n",
    "        if not re.match(r'^\\d{7,8}$', str(v)):  # Convert to string before matching\n",
    "            raise ValueError(\"The ID number should be a 7 or 8-digit number\")\n",
    "        return v"
   ]
  },
  {
   "cell_type": "code",
   "execution_count": 95,
   "metadata": {},
   "outputs": [],
   "source": [
    "@tool(\"check_availability_by_doctor\", return_direct=True)\n",
    "def check_availability_by_doctor(desired_date:DateModel, doctor_name:Literal['kevin anderson','robert martinez','susan davis','daniel miller','sarah wilson','michael green','lisa brown','jane smith','emily johnson','john doe']):\n",
    "    \"\"\"\n",
    "    Checking the database if we have availability for the specific doctor.\n",
    "    The parameters should be mentioned by the user in the query\n",
    "    \"\"\"\n",
    "    df = pd.read_csv(r\"../data/doctor_availability.csv\")\n",
    "    \n",
    "    # print(df)\n",
    "    \n",
    "    df['date_slot_time'] = df['date_slot'].apply(lambda input: input.split(' ')[-1])\n",
    "    \n",
    "    rows = list(df[(df['date_slot'].apply(lambda input: input.split(' ')[0]) == desired_date.date)&(df['doctor_name'] == doctor_name)&(df['is_available'] == True)]['date_slot_time'])\n",
    "    # print(rows)\n",
    "    if len(rows) == 0:\n",
    "        output = \"No availability in the entire day\"\n",
    "    else:\n",
    "        output = f'This availability for {desired_date.date}\\n'\n",
    "        output += \"Available slots: \" + ', '.join(rows)\n",
    "\n",
    "    return output"
   ]
  },
  {
   "cell_type": "code",
   "execution_count": 96,
   "metadata": {},
   "outputs": [
    {
     "name": "stdout",
     "output_type": "stream",
     "text": [
      "date='09-08-2024'\n"
     ]
    }
   ],
   "source": [
    "# Example usage:\n",
    "date_instance = DateModel(date=\"09-08-2024\")\n",
    "print(date_instance)"
   ]
  },
  {
   "cell_type": "code",
   "execution_count": 97,
   "metadata": {},
   "outputs": [
    {
     "name": "stdout",
     "output_type": "stream",
     "text": [
      "This availability for 09-08-2024\n",
      "Available slots: 08:00, 08:30, 09:00, 09:30, 10:00, 10:30, 11:00, 11:30, 12:00, 14:00, 14:30, 15:00, 15:30, 16:00, 16:30\n"
     ]
    }
   ],
   "source": [
    "print(check_availability_by_doctor.invoke({\"desired_date\": date_instance, \"doctor_name\": \"lisa brown\"}))"
   ]
  },
  {
   "cell_type": "code",
   "execution_count": 98,
   "metadata": {},
   "outputs": [],
   "source": [
    "@tool(\"check_availability_by_specialization\", return_direct=True)\n",
    "def check_availability_by_specialization(desired_date:DateModel, specialization:Literal[\"general_dentist\", \"cosmetic_dentist\", \"prosthodontist\", \"pediatric_dentist\",\"emergency_dentist\",\"oral_surgeon\",\"orthodontist\"]):\n",
    "    \"\"\"\n",
    "    Checking the database if we have availability for the specific specialization.\n",
    "    The parameters should be mentioned by the user in the query\n",
    "    \"\"\"\n",
    "    #Dummy data\n",
    "    df = pd.read_csv(r\"../data/doctor_availability.csv\")\n",
    "    \n",
    "    df['date_slot_time'] = df['date_slot'].apply(lambda input: input.split(' ')[-1])\n",
    "    rows = df[(df['date_slot'].apply(lambda input: input.split(' ')[0]) == desired_date.date) & (df['specialization'] == specialization) & (df['is_available'] == True)].groupby(['specialization', 'doctor_name'])['date_slot_time'].apply(list).reset_index(name='available_slots')\n",
    "\n",
    "    if len(rows) == 0:\n",
    "        output = \"No availability in the entire day\"\n",
    "    else:\n",
    "        def convert_to_am_pm(time_str):\n",
    "            # Split the time string into hours and minutes\n",
    "            time_str = str(time_str)\n",
    "            hours, minutes = map(int, time_str.split(\":\"))\n",
    "            \n",
    "            # Determine AM or PM\n",
    "            period = \"AM\" if hours < 12 else \"PM\"\n",
    "            \n",
    "            # Convert hours to 12-hour format\n",
    "            hours = hours % 12 or 12\n",
    "            \n",
    "            # Format the output\n",
    "            return f\"{hours}:{minutes:02d} {period}\"\n",
    "        \n",
    "        output = f'This availability for {desired_date.date}\\n'\n",
    "        for row in rows.values:\n",
    "            output += row[1] + \". Available slots: \\n\" + ', \\n'.join([convert_to_am_pm(value)for value in row[2]])+'\\n'\n",
    "\n",
    "    return output"
   ]
  },
  {
   "cell_type": "code",
   "execution_count": 99,
   "metadata": {},
   "outputs": [
    {
     "name": "stdout",
     "output_type": "stream",
     "text": [
      "date='03-09-2024'\n"
     ]
    }
   ],
   "source": [
    "# Example usage:\n",
    "date_instance = DateModel(date=\"03-09-2024\")\n",
    "print(date_instance)"
   ]
  },
  {
   "cell_type": "code",
   "execution_count": 100,
   "metadata": {},
   "outputs": [
    {
     "name": "stdout",
     "output_type": "stream",
     "text": [
      "This availability for 03-09-2024\n",
      "kevin anderson. Available slots: \n",
      "8:00 AM, \n",
      "8:30 AM, \n",
      "11:30 AM, \n",
      "12:00 PM, \n",
      "12:30 PM, \n",
      "1:00 PM, \n",
      "2:00 PM, \n",
      "2:30 PM, \n",
      "3:00 PM, \n",
      "3:30 PM, \n",
      "4:00 PM, \n",
      "4:30 PM\n",
      "\n"
     ]
    }
   ],
   "source": [
    "\n",
    "print(check_availability_by_specialization.invoke({\"desired_date\": date_instance, \"specialization\": \"orthodontist\"}))"
   ]
  },
  {
   "cell_type": "code",
   "execution_count": 101,
   "metadata": {},
   "outputs": [
    {
     "name": "stdout",
     "output_type": "stream",
     "text": [
      "date='06-08-2024'\n",
      "No availability in the entire day\n"
     ]
    }
   ],
   "source": [
    "date_instance = DateModel(date=\"06-08-2024\")\n",
    "print(date_instance)\n",
    "print(check_availability_by_specialization.invoke({\"desired_date\": date_instance, \"specialization\": \"orthodontist\"}))"
   ]
  },
  {
   "cell_type": "code",
   "execution_count": 102,
   "metadata": {},
   "outputs": [
    {
     "data": {
      "text/plain": [
       "DateTimeModel(date='05-08-2024 08:30')"
      ]
     },
     "execution_count": 102,
     "metadata": {},
     "output_type": "execute_result"
    }
   ],
   "source": [
    "Old_Date_Time = DateTimeModel(date=\"05-08-2024 08:30\")\n",
    "Old_Date_Time"
   ]
  },
  {
   "cell_type": "code",
   "execution_count": 103,
   "metadata": {},
   "outputs": [
    {
     "data": {
      "text/plain": [
       "DateTimeModel(date='28-03-2024 14:30')"
      ]
     },
     "execution_count": 103,
     "metadata": {},
     "output_type": "execute_result"
    }
   ],
   "source": [
    "New_Date_Time = DateTimeModel(date=\"28-03-2024 14:30\")\n",
    "New_Date_Time"
   ]
  },
  {
   "cell_type": "code",
   "execution_count": 104,
   "metadata": {},
   "outputs": [
    {
     "data": {
      "text/plain": [
       "IdentificationNumberModel(id=1000082)"
      ]
     },
     "execution_count": 104,
     "metadata": {},
     "output_type": "execute_result"
    }
   ],
   "source": [
    "IDNumber = IdentificationNumberModel(id=1000082)\n",
    "IDNumber"
   ]
  },
  {
   "cell_type": "code",
   "execution_count": null,
   "metadata": {},
   "outputs": [],
   "source": []
  },
  {
   "cell_type": "code",
   "execution_count": 105,
   "metadata": {},
   "outputs": [],
   "source": [
    "@tool(\"cancel_appointment\", return_direct=True)\n",
    "def cancel_appointment(date:DateTimeModel, id_number:IdentificationNumberModel, doctor_name:Literal['kevin anderson','robert martinez','susan davis','daniel miller','sarah wilson','michael green','lisa brown','jane smith','emily johnson','john doe']):\n",
    "    \"\"\"\n",
    "    Canceling an appointment.\n",
    "    The parameters MUST be mentioned by the user in the query.\n",
    "    \"\"\"\n",
    "    df = pd.read_csv(r\"../data/doctor_availability.csv\")\n",
    "    case_to_remove = df[(df['date_slot'] == date.date)&(df['patient_to_attend'] == id_number.id)&(df['doctor_name'] == doctor_name)]\n",
    "    if len(case_to_remove) == 0:\n",
    "        return \"You don´t have any appointment with that specifications\"\n",
    "    else:\n",
    "        df.loc[(df['date_slot'] == date.date) & (df['patient_to_attend'] == id_number.id) & (df['doctor_name'] == doctor_name), ['is_available', 'patient_to_attend']] = [True, None]\n",
    "        df.to_csv(f\"../data/doctor_availability.csv\", index = False)\n",
    "\n",
    "        return \"Successfully cancelled\""
   ]
  },
  {
   "cell_type": "code",
   "execution_count": 106,
   "metadata": {},
   "outputs": [
    {
     "data": {
      "text/plain": [
       "IdentificationNumberModel(id=1000026)"
      ]
     },
     "execution_count": 106,
     "metadata": {},
     "output_type": "execute_result"
    }
   ],
   "source": [
    "Date = DateTimeModel(date=\"05-08-2024 15:00\")\n",
    "\n",
    "\n",
    "IDNumber = IdentificationNumberModel(id=1000026)\n",
    "IDNumber"
   ]
  },
  {
   "cell_type": "code",
   "execution_count": 107,
   "metadata": {},
   "outputs": [
    {
     "name": "stdout",
     "output_type": "stream",
     "text": [
      "Successfully cancelled\n"
     ]
    }
   ],
   "source": [
    "print(cancel_appointment.invoke({\"date\": Date,\"id_number\":IDNumber,\"doctor_name\":\"john doe\"}))"
   ]
  },
  {
   "cell_type": "code",
   "execution_count": 108,
   "metadata": {},
   "outputs": [],
   "source": [
    "@tool(\"set_appointment\", return_direct=True)\n",
    "def set_appointment(desired_date:DateTimeModel, id_number:IdentificationNumberModel, doctor_name:Literal['kevin anderson','robert martinez','susan davis','daniel miller','sarah wilson','michael green','lisa brown','jane smith','emily johnson','john doe']):\n",
    "    \"\"\"\n",
    "    Set appointment or slot with the doctor.\n",
    "    The parameters MUST be mentioned by the user in the query.\n",
    "    \"\"\"\n",
    "    df = pd.read_csv(r\"../data/doctor_availability.csv\")\n",
    "   \n",
    "    from datetime import datetime\n",
    "    def convert_datetime_format(dt_str):\n",
    "        # Parse the input datetime string\n",
    "        #dt = datetime.strptime(dt_str, \"%Y-%m-%d %H:%M\")\n",
    "        dt = datetime.strptime(dt_str, \"%d-%m-%Y %H:%M\")\n",
    "        \n",
    "        # Format the output as 'DD-MM-YYYY H.M' (removing leading zero from hour only)\n",
    "        # return dt.strftime(\"%d-%m-%Y %#H.%M\")\n",
    "        return dt.strftime(\"%d-%m-%Y %#H:%M\")\n",
    "    \n",
    "    case = df[(df['date_slot'] == convert_datetime_format(desired_date.date))&(df['doctor_name'] == doctor_name)&(df['is_available'] == True)]\n",
    "    # print(convert_datetime_format(desired_date.date))\n",
    "    # print(df[df['date_slot'] == desired_date.date])\n",
    "\n",
    "    if len(case) == 0:\n",
    "        return \"No available appointments for that particular case\"\n",
    "    else:\n",
    "        df.loc[(df['date_slot'] == convert_datetime_format(desired_date.date))&(df['doctor_name'] == doctor_name) & (df['is_available'] == True), ['is_available','patient_to_attend']] = [False, id_number.id]\n",
    "        df.to_csv(f\"../data/doctor_availability.csv\", index = False)\n",
    "\n",
    "        return \"Succesfully done\""
   ]
  },
  {
   "cell_type": "code",
   "execution_count": 109,
   "metadata": {},
   "outputs": [
    {
     "data": {
      "text/plain": [
       "IdentificationNumberModel(id=1000026)"
      ]
     },
     "execution_count": 109,
     "metadata": {},
     "output_type": "execute_result"
    }
   ],
   "source": [
    "Date = DateTimeModel(date=\"05-08-2024 15:00\")\n",
    "\n",
    "IDNumber = IdentificationNumberModel(id=1000026)\n",
    "IDNumber"
   ]
  },
  {
   "cell_type": "code",
   "execution_count": 110,
   "metadata": {},
   "outputs": [],
   "source": [
    "## Tools For Booking agent\n",
    "@tool(\"reschedule_appointment\", return_direct=True)\n",
    "def reschedule_appointment(old_date:DateTimeModel, new_date:DateTimeModel, id_number:IdentificationNumberModel, doctor_name:Literal['kevin anderson','robert martinez','susan davis','daniel miller','sarah wilson','michael green','lisa brown','jane smith','emily johnson','john doe']):\n",
    "    \"\"\"\n",
    "    Rescheduling an appointment.\n",
    "    The parameters MUST be mentioned by the user in the query.\n",
    "    \"\"\"\n",
    "    #Dummy data\n",
    "    df = pd.read_csv(r\"../data/doctor_availability.csv\")\n",
    "    available_for_desired_date = df[(df['date_slot'] == new_date.date)&(df['is_available'] == True)&(df['doctor_name'] == doctor_name)]\n",
    "    if len(available_for_desired_date) == 0:\n",
    "        return \"Not available slots in the desired period\"\n",
    "    else:\n",
    "        cancel_appointment.invoke({'date':old_date, 'id_number':id_number, 'doctor_name':doctor_name})\n",
    "        set_appointment.invoke({'desired_date':new_date, 'id_number': id_number, 'doctor_name': doctor_name})\n",
    "        return \"Successfully rescheduled for the desired time\""
   ]
  },
  {
   "cell_type": "code",
   "execution_count": 111,
   "metadata": {},
   "outputs": [
    {
     "name": "stdout",
     "output_type": "stream",
     "text": [
      "Not available slots in the desired period\n"
     ]
    }
   ],
   "source": [
    "print(reschedule_appointment.invoke({\"old_date\": Old_Date_Time,\"new_date\": New_Date_Time,\"id_number\":IDNumber, \"doctor_name\": \"kevin anderson\"}))"
   ]
  },
  {
   "cell_type": "code",
   "execution_count": 112,
   "metadata": {},
   "outputs": [
    {
     "name": "stdout",
     "output_type": "stream",
     "text": [
      "Succesfully done\n"
     ]
    }
   ],
   "source": [
    "print(set_appointment.invoke({\"desired_date\":Date,\"id_number\":IDNumber,\"doctor_name\":\"john doe\"}))"
   ]
  },
  {
   "cell_type": "code",
   "execution_count": null,
   "metadata": {},
   "outputs": [],
   "source": []
  },
  {
   "cell_type": "code",
   "execution_count": null,
   "metadata": {},
   "outputs": [],
   "source": []
  },
  {
   "cell_type": "code",
   "execution_count": null,
   "metadata": {},
   "outputs": [],
   "source": [
    "\n",
    "\n",
    "class Router(TypedDict):\n",
    "    \"\"\"Decides which node to call next.\"\"\"\n",
    "    next: Literal[\"information_node\",\"booking_node\",\"FINISH\"] = Field(..., description=\"Next worker\")\n",
    "    reasoning: str = Field(..., description=\"Internal reasoning\")"
   ]
  },
  {
   "cell_type": "code",
   "execution_count": 113,
   "metadata": {},
   "outputs": [],
   "source": [
    "# class AgentState(BaseModel):\n",
    "#     messages: Annotated[list[Any], add_messages]\n",
    "#     id_number: int\n",
    "#     next:str\n",
    "#     query: str\n",
    "#     current_reasoning: str\n",
    "\n",
    "class AgentState(TypedDict):\n",
    "    messages: list[Any]\n",
    "    id_number: int\n",
    "    next: str = Field(\"supervisor\", description=\"Next node to call\")\n",
    "    query: str = Field(\"\", description=\"Original user query\")\n",
    "    current_reasoning: str = Field(\"\", description=\"Model’s internal reasoning\")"
   ]
  },
  {
   "cell_type": "code",
   "execution_count": 290,
   "metadata": {},
   "outputs": [],
   "source": [
    "### workable\n",
    "\n",
    "# 1. Define Pydantic schemas for routing\n",
    "class Router(BaseModel):\n",
    "    next: Literal[\"information_node\", \"booking_node\", \"confirmation_node\",\"FINISH\"] = Field(\n",
    "        ..., description=\"Which specialized worker to call next\"\n",
    "    )\n",
    "    reasoning: str = Field(..., description=\"Internal reasoning of the agent\")"
   ]
  },
  {
   "cell_type": "code",
   "execution_count": null,
   "metadata": {},
   "outputs": [],
   "source": [
    "# 2. Define the state model with defaults\n",
    "class AgentState(BaseModel):\n",
    "    messages: list[Any]\n",
    "    id_number: int\n",
    "    next: str = Field(\"supervisor\", description=\"Next node to run\")\n",
    "    query: str = Field(\"\", description=\"Original user query\")\n",
    "    current_reasoning: str = Field(\"\", description=\"Last reasoning output\")"
   ]
  },
  {
   "cell_type": "code",
   "execution_count": 291,
   "metadata": {},
   "outputs": [
    {
     "data": {
      "text/plain": [
       "pydantic._internal._model_construction.ModelMetaclass"
      ]
     },
     "execution_count": 291,
     "metadata": {},
     "output_type": "execute_result"
    }
   ],
   "source": [
    "type(Router)"
   ]
  },
  {
   "cell_type": "code",
   "execution_count": 292,
   "metadata": {},
   "outputs": [
    {
     "data": {
      "text/plain": [
       "typing_extensions._TypedDictMeta"
      ]
     },
     "execution_count": 292,
     "metadata": {},
     "output_type": "execute_result"
    }
   ],
   "source": [
    "type(AgentState)"
   ]
  },
  {
   "cell_type": "code",
   "execution_count": null,
   "metadata": {},
   "outputs": [],
   "source": []
  },
  {
   "cell_type": "code",
   "execution_count": 293,
   "metadata": {},
   "outputs": [],
   "source": [
    "members_dict = {'information_node':'specialized agent to provide information related to availability of doctors or any FAQs related to hospital.',\n",
    "                'booking_node':'specialized agent to only to book, cancel or reschedule appointment',\n",
    "                'confirmation_node': \"human-in-the-loop checkpoint. Whenever an agent asks a question requiring explicit user confirmation, the supervisor should route here. This node pauses execution, collects the user response, and returns control to supervisor.\"}"
   ]
  },
  {
   "cell_type": "code",
   "execution_count": 294,
   "metadata": {},
   "outputs": [
    {
     "data": {
      "text/plain": [
       "{'information_node': 'specialized agent to provide information related to availability of doctors or any FAQs related to hospital.',\n",
       " 'booking_node': 'specialized agent to only to book, cancel or reschedule appointment',\n",
       " 'confirmation_node': 'human-in-the-loop checkpoint. Whenever an agent asks a question requiring explicit user confirmation, the supervisor should route here. This node pauses execution, collects the user response, and returns control to supervisor.'}"
      ]
     },
     "execution_count": 294,
     "metadata": {},
     "output_type": "execute_result"
    }
   ],
   "source": [
    "members_dict"
   ]
  },
  {
   "cell_type": "code",
   "execution_count": 295,
   "metadata": {},
   "outputs": [],
   "source": [
    "options = list(members_dict.keys()) + [\"FINISH\"]"
   ]
  },
  {
   "cell_type": "code",
   "execution_count": 296,
   "metadata": {},
   "outputs": [
    {
     "data": {
      "text/plain": [
       "['information_node', 'booking_node', 'confirmation_node', 'FINISH']"
      ]
     },
     "execution_count": 296,
     "metadata": {},
     "output_type": "execute_result"
    }
   ],
   "source": [
    "options"
   ]
  },
  {
   "cell_type": "code",
   "execution_count": 297,
   "metadata": {},
   "outputs": [],
   "source": [
    "worker_info = '\\n\\n'.join([f'WORKER: {member} \\nDESCRIPTION: {description}' for member, description in members_dict.items()]) + '\\n\\nWORKER: FINISH \\nDESCRIPTION: If User Query is answered and route to Finished'"
   ]
  },
  {
   "cell_type": "code",
   "execution_count": 298,
   "metadata": {},
   "outputs": [
    {
     "name": "stdout",
     "output_type": "stream",
     "text": [
      "WORKER: information_node \n",
      "DESCRIPTION: specialized agent to provide information related to availability of doctors or any FAQs related to hospital.\n",
      "\n",
      "WORKER: booking_node \n",
      "DESCRIPTION: specialized agent to only to book, cancel or reschedule appointment\n",
      "\n",
      "WORKER: confirmation_node \n",
      "DESCRIPTION: human-in-the-loop checkpoint. Whenever an agent asks a question requiring explicit user confirmation, the supervisor should route here. This node pauses execution, collects the user response, and returns control to supervisor.\n",
      "\n",
      "WORKER: FINISH \n",
      "DESCRIPTION: If User Query is answered and route to Finished\n"
     ]
    }
   ],
   "source": [
    "print(worker_info)"
   ]
  },
  {
   "cell_type": "code",
   "execution_count": 299,
   "metadata": {},
   "outputs": [],
   "source": [
    "system_prompt = (\n",
    "    \"You are a supervisor tasked with managing a conversation between following workers. \"\n",
    "    \"### SPECIALIZED ASSISTANT WORKERS:\\n\"\n",
    "    f\"{worker_info}\\n\\n\"\n",
    "    # \"Your primary role is to help the user make an appointment with the doctor and provide updates on FAQs and doctor's availability. \"\n",
    "    # \"If a customer requests to know the availability of a doctor or to book, reschedule, or cancel an appointment, \"\n",
    "    # \"delegate the task to the appropriate specialized workers. Given the following user request,\"\n",
    "    # \" respond with the worker to act next. Each worker will perform a\"\n",
    "    # \" task and respond with their results and status. When finished,\"\n",
    "    # \" respond with FINISH.\"\n",
    "    # \"UTILIZE last conversation to assess if the conversation should end you answered the query, then route to FINISH \"\n",
    "\n",
    "\"\"\"\n",
    "Your job is to choose the correct worker based on the user's request and the current context. Follow these rules strictly:\n",
    "\n",
    "1. If the user asks about **doctor availability** or **does not specify a doctor's name**, route to `information_node`.\n",
    "\n",
    "2. If the user wants to **book/reschedule/cancel** an appointment and has already provided their ID, doctor's name, and desired date/time, route to `booking_node`.\n",
    "\n",
    "3. If availability has been checked and the user explicitly confirms a booking (e.g., 'yes', 'book it', 'confirm'), route to `booking_node`.\n",
    "\n",
    "4. If the last agent response is a question intended for the user to answer (e.g., ends with '?'), route to `confirmation_node` before any further action.\n",
    "\n",
    "5. If the user request has been fulfilled and no further action is needed, route to `FINISH`.\n",
    "\n",
    "IMPORTANT:\n",
    "- After `information_node` provides options, always pause at a confirmation question and route to `confirmation_node`.\n",
    "- Do not loop indefinitely on `information_node` without user input.\n",
    "- Treat questions as checkpoints to gather explicit user replies.\n",
    "\n",
    "\"\"\"\n",
    "\n",
    "# Your job: choose the single correct worker for the next step. **Output must be exactly one** of: `information_node`, `booking_node`, `confirmation_node`, or `FINISH`.\n",
    "\n",
    "# Routing rules (in priority order):\n",
    "# 1. If the last agent response ends with a question (`?`), select `confirmation_node`.\n",
    "# 2. If user explicitly confirmed booking details (e.g., \"yes\", \"confirm\", \"book it\") and all info (ID, doctor name, date/time) exists, select `booking_node`.\n",
    "# 3. If user requests booking/cancellation/reschedule and has provided ID, doctor, and date/time, select `booking_node`.\n",
    "# 4. If user asks about availability or no doctor name provided, select `information_node`.\n",
    "# 5. If conversation is complete, select `FINISH`.\n",
    "\n",
    "# Respond with only the worker name—no extra text, no JSON.\n",
    "# \"\"\"\n",
    "     \n",
    ")"
   ]
  },
  {
   "cell_type": "code",
   "execution_count": 300,
   "metadata": {},
   "outputs": [
    {
     "name": "stdout",
     "output_type": "stream",
     "text": [
      "You are a supervisor tasked with managing a conversation between following workers. ### SPECIALIZED ASSISTANT WORKERS:\n",
      "WORKER: information_node \n",
      "DESCRIPTION: specialized agent to provide information related to availability of doctors or any FAQs related to hospital.\n",
      "\n",
      "WORKER: booking_node \n",
      "DESCRIPTION: specialized agent to only to book, cancel or reschedule appointment\n",
      "\n",
      "WORKER: confirmation_node \n",
      "DESCRIPTION: human-in-the-loop checkpoint. Whenever an agent asks a question requiring explicit user confirmation, the supervisor should route here. This node pauses execution, collects the user response, and returns control to supervisor.\n",
      "\n",
      "WORKER: FINISH \n",
      "DESCRIPTION: If User Query is answered and route to Finished\n",
      "\n",
      "\n",
      "Your job is to choose the correct worker based on the user's request and the current context. Follow these rules strictly:\n",
      "\n",
      "1. If the user asks about **doctor availability** or **does not specify a doctor's name**, route to `information_node`.\n",
      "\n",
      "2. If the user wants to **book/reschedule/cancel** an appointment and has already provided their ID, doctor's name, and desired date/time, route to `booking_node`.\n",
      "\n",
      "3. If availability has been checked and the user explicitly confirms a booking (e.g., 'yes', 'book it', 'confirm'), route to `booking_node`.\n",
      "\n",
      "4. If the last agent response is a question intended for the user to answer (e.g., ends with '?'), route to `confirmation_node` before any further action.\n",
      "\n",
      "5. If the user request has been fulfilled and no further action is needed, route to `FINISH`.\n",
      "\n",
      "IMPORTANT:\n",
      "- After `information_node` provides options, always pause at a confirmation question and route to `confirmation_node`.\n",
      "- Do not loop indefinitely on `information_node` without user input.\n",
      "- Treat questions as checkpoints to gather explicit user replies.\n",
      "\n",
      "\n"
     ]
    }
   ],
   "source": [
    "print(system_prompt)"
   ]
  },
  {
   "cell_type": "code",
   "execution_count": 301,
   "metadata": {},
   "outputs": [],
   "source": [
    "# ================================\n",
    "# 2. UTILITY FUNCTIONS\n",
    "# ================================\n",
    "\n",
    "def clean_messages(messages):\n",
    "    \"\"\"Remove duplicate messages and ensure proper formatting\"\"\"\n",
    "    if not messages:\n",
    "        return []\n",
    "    \n",
    "    cleaned = []\n",
    "    seen_contents = set()\n",
    "    \n",
    "    for msg in messages:\n",
    "        # Create a unique identifier based on content and type\n",
    "        content_key = f\"{msg.content[:100]}_{type(msg).__name__}\"\n",
    "        \n",
    "        if content_key not in seen_contents:\n",
    "            seen_contents.add(content_key)\n",
    "            cleaned.append(msg)\n",
    "    \n",
    "    return cleaned\n"
   ]
  },
  {
   "cell_type": "code",
   "execution_count": 302,
   "metadata": {},
   "outputs": [],
   "source": [
    "def supervisor_node(state: AgentState) -> Command[Literal['information_node', 'booking_node', 'confirmation_node', '__end__']]:\n",
    "    \n",
    "    print(\"**************************SUPERVISOR ENTRY****************************\")\n",
    "    print(f\"Current state: {state}\")\n",
    "    print(\"=\"*70)\n",
    "    \n",
    "    # Clean messages to avoid duplicates\n",
    "    clean_msgs = clean_messages(state.get(\"messages\", []))\n",
    "    \n",
    "    # Build messages for the LLM\n",
    "    messages = [\n",
    "        {\"role\": \"system\", \"content\": system_prompt},\n",
    "        {\"role\": \"user\", \"content\": f\"user's identification number is {state['id_number']}\"},\n",
    "    ] + clean_msgs\n",
    "    \n",
    "    # Get the current query\n",
    "    query = \"\"\n",
    "    if clean_msgs:\n",
    "        # Get the last human message that's not about ID\n",
    "        for msg in reversed(clean_msgs):\n",
    "            if 1 and \"identification number\" not in msg.content:\n",
    "                query = msg.content\n",
    "                break\n",
    "    \n",
    "    print(f\"Current query: {query}\")\n",
    "   \n",
    "  \n",
    "        \n",
    "    # # Delegate routing entirely to the LLM Router\n",
    "    try:\n",
    "\n",
    "        print(\"llm calling...\")\n",
    "        response = groq_model.with_structured_output(Router).invoke(messages)\n",
    "        goto = response.next\n",
    "        \n",
    "        print(f\"🤖 LLM Decision: {goto} - Reasoning: {response.reasoning}\")\n",
    "        \n",
    "        return Command(\n",
    "            goto=goto if goto != \"FINISH\" else \"__end__\",\n",
    "            update={\n",
    "                \"next\": goto,\n",
    "                \"query\": clean_msgs[-1].content if clean_msgs else \"\",\n",
    "                \"current_reasoning\": response.reasoning,\n",
    "                \"messages\": clean_msgs\n",
    "            }\n",
    "        )\n",
    "        \n",
    "    except Exception as e:\n",
    "        print(f\"❌ Error in supervisor: {e}\")\n",
    "        # Fallback logic\n",
    "        return Command(\n",
    "            goto=\"information_node\",\n",
    "            update={\n",
    "                \"next\": \"information_node\",\n",
    "                \"current_reasoning\": \"Fallback to information node due to error\",\n",
    "                \"messages\": clean_msgs\n",
    "            }\n",
    "        )"
   ]
  },
  {
   "cell_type": "code",
   "execution_count": 303,
   "metadata": {},
   "outputs": [],
   "source": [
    "from langchain_core.prompts import ChatPromptTemplate, MessagesPlaceholder\n",
    "\n",
    "def information_node(state: AgentState) -> Command[Literal['supervisor']]:\n",
    "    \n",
    "    print(\"*****************INFORMATION NODE CALLED************\")\n",
    "    \n",
    "    system_prompt = \"\"\"You are an intelligent hospital information agent. Your job is to:\n",
    "    \n",
    "    1. Help users check doctor availability using the tools provided\n",
    "    2. Provide clear information about available slots\n",
    "    3. If user asks about booking AND you find available slots, ask if they want to proceed with booking\n",
    "    4. Be polite and helpful\n",
    "    \n",
    "    Important:\n",
    "    - Current year is 2024\n",
    "    - When you find available slots, clearly state the doctor name and available times\n",
    "    - If the exact time requested isn't available, suggest the closest alternatives\n",
    "    - If user wants to book after seeing availability, confirm their choice\n",
    "    - Use the tools available: check_availability_by_doctor, check_availability_by_specialization\n",
    "    \"\"\"\n",
    "    \n",
    "    prompt = ChatPromptTemplate.from_messages([\n",
    "        (\"system\", system_prompt),\n",
    "        MessagesPlaceholder(variable_name=\"messages\"),\n",
    "    ])\n",
    "    \n",
    "    # Create the agent with your existing tools\n",
    "    information_agent = create_react_agent(\n",
    "        model=groq_model,\n",
    "        tools=[check_availability_by_doctor, check_availability_by_specialization],\n",
    "        prompt=prompt\n",
    "    )\n",
    "    \n",
    "    try:\n",
    "        # Clean messages before processing\n",
    "        clean_msgs = clean_messages(state[\"messages\"])\n",
    "        \n",
    "        result = information_agent.invoke({\"messages\": clean_msgs})\n",
    "        \n",
    "        print(f\"Information agent result: {result['messages'][-1].content}\")\n",
    "\n",
    "        print(\"next..\")\n",
    "        \n",
    "        # Add the response to conversation\n",
    "        new_message = AIMessage(\n",
    "            content=result['messages'][-1].content, \n",
    "            name=\"information_node\"\n",
    "        )\n",
    "        \n",
    "        updated_messages = clean_msgs + [new_message]\n",
    "\n",
    "        print(\"next..2\")\n",
    "        \n",
    "        return Command(\n",
    "            update={\"messages\": updated_messages}, \n",
    "            goto=\"supervisor\"\n",
    "        )\n",
    "      \n",
    "    except Exception as e:\n",
    "        print(f\"❌ Error in information_node: {e}\")\n",
    "        \n",
    "        # Fallback response\n",
    "        error_message = AIMessage(\n",
    "            content=\"I'm having trouble checking availability right now. Please try again or contact support.\",\n",
    "            name=\"information_node\"\n",
    "        )\n",
    "        \n",
    "        return Command(\n",
    "            update={\"messages\": state[\"messages\"] + [error_message]}, \n",
    "            goto=\"supervisor\"\n",
    "        )\n"
   ]
  },
  {
   "cell_type": "code",
   "execution_count": 304,
   "metadata": {},
   "outputs": [],
   "source": [
    "def booking_node(state: AgentState) -> Command[Literal['supervisor']]:\n",
    "    \n",
    "    print(\"*****************BOOKING NODE CALLED************\")\n",
    "    \n",
    "    system_prompt = \"\"\"You are a specialized booking agent for hospital appointments. Your job is to:\n",
    "    \n",
    "    1. Book, cancel, or reschedule appointments using the provided tools\n",
    "    2. Extract date and time information from the conversation properly\n",
    "    3. Use the exact format required by the tools (DD-MM-YYYY HH:MM or DD-MM-YYYY)\n",
    "    4. Provide clear confirmation messages\n",
    "    5. Handle any booking errors gracefully\n",
    "    \n",
    "    Important:\n",
    "    - Current year is 2024\n",
    "    - Always confirm the booking details (doctor, date, time) before proceeding\n",
    "    - Use your tools: set_appointment, cancel_appointment, reschedule_appointment\n",
    "    - If booking is successful, provide a clear confirmation message\n",
    "    - Be polite and professional\n",
    "    \"\"\"\n",
    "    \n",
    "    prompt = ChatPromptTemplate.from_messages([\n",
    "        (\"system\", system_prompt),\n",
    "        MessagesPlaceholder(variable_name=\"messages\")\n",
    "    ])\n",
    "    \n",
    "    # Create agent with your existing booking tools\n",
    "    booking_agent = create_react_agent(\n",
    "        model=groq_model,\n",
    "        tools=[set_appointment, cancel_appointment, reschedule_appointment],\n",
    "        prompt=prompt\n",
    "    )\n",
    "    \n",
    "    try:\n",
    "        # Clean messages before processing\n",
    "        clean_msgs = clean_messages(state[\"messages\"])\n",
    "        \n",
    "        result = booking_agent.invoke({\"messages\": clean_msgs})\n",
    "        \n",
    "        print(f\"Booking agent result: {result['messages'][-1].content}\")\n",
    "        \n",
    "        # Add the response to conversation\n",
    "        new_message = AIMessage(\n",
    "            content=result['messages'][-1].content,\n",
    "            name=\"booking_node\"\n",
    "        )\n",
    "        \n",
    "        updated_messages = clean_msgs + [new_message]\n",
    "        \n",
    "        return Command(\n",
    "            update={\"messages\": updated_messages},\n",
    "            goto=\"supervisor\"\n",
    "        )\n",
    "        \n",
    "    except Exception as e:\n",
    "        print(f\"❌ Error in booking_node: {e}\")\n",
    "        \n",
    "        # Fallback response\n",
    "        error_message = AIMessage(\n",
    "            content=\"I'm having trouble processing the booking right now. Please try again or contact support.\",\n",
    "            name=\"booking_node\"\n",
    "        )\n",
    "        \n",
    "        return Command(\n",
    "            update={\"messages\": state[\"messages\"] + [error_message]},\n",
    "            goto=\"supervisor\"\n",
    "        )"
   ]
  },
  {
   "cell_type": "code",
   "execution_count": 305,
   "metadata": {},
   "outputs": [],
   "source": [
    "# 2. CONFIRMATION NODE (Human-in-the-loop)\n",
    "# ================================\n",
    "\n",
    "from langgraph.types import interrupt, Command\n",
    "\n",
    "def confirmation_node(state: AgentState) -> Command[Literal['supervisor']]:\n",
    "    \"\"\"\n",
    "    Pause the graph to get a human confirmation via LangGraph interrupt,\n",
    "    then resume by injecting the user's response as a HumanMessage.\n",
    "    \"\"\"\n",
    "\n",
    "    print(\"000000000000=-------inside pf confumation node------------\")\n",
    "\n",
    "    # Last question prompt\n",
    "    last_ai: AIMessage = state['messages'][-1]\n",
    "    # Use interrupt to get human input in production-friendly way\n",
    "    response_text = interrupt(f\"{last_ai.content}\\nYour response:\")\n",
    "\n",
    "    # Append human response to conversation\n",
    "    human_msg = HumanMessage(content=response_text)\n",
    "    updated_msgs = state['messages'] + [human_msg]\n",
    "\n",
    "    return Command(\n",
    "        goto=\"supervisor\",\n",
    "        update={\"messages\": updated_msgs}\n",
    "    )\n"
   ]
  },
  {
   "cell_type": "code",
   "execution_count": null,
   "metadata": {},
   "outputs": [],
   "source": []
  },
  {
   "cell_type": "code",
   "execution_count": null,
   "metadata": {},
   "outputs": [],
   "source": []
  },
  {
   "cell_type": "code",
   "execution_count": null,
   "metadata": {},
   "outputs": [],
   "source": []
  },
  {
   "cell_type": "code",
   "execution_count": null,
   "metadata": {},
   "outputs": [],
   "source": []
  },
  {
   "cell_type": "code",
   "execution_count": 203,
   "metadata": {},
   "outputs": [],
   "source": [
    "def supervisor_node(state:AgentState) -> Command[Literal['information_node', 'booking_node','confirmation_node', '__end__']]:\n",
    "    print(\"**************************below is my state right after entering****************************\")\n",
    "    \n",
    "    print(state)\n",
    "    print(\"---123---\")\n",
    "    # print(state['id_number'])\n",
    "    # print(\"456\")\n",
    "    \n",
    "    messages = [\n",
    "        {\"role\": \"system\", \"content\": system_prompt},\n",
    "        {\"role\": \"user\", \"content\": f\"user's identification number is {state['id_number']}\"},\n",
    "    ] + state[\"messages\"]\n",
    "    \n",
    "    print(\"***********************this is my message*****************************************\")\n",
    "    print(messages)\n",
    "    \n",
    "    # # query = state['messages'][-1].content if state[\"messages\"] else \"\"\n",
    "    # query = ''\n",
    "    # if len(state['messages']) == 1:\n",
    "    #     query = state['messages'][0].content\n",
    "\n",
    "    query = \"\"\n",
    "    if len(state['messages']) >= 2 :\n",
    "        query = state['messages'][-1].content if state[\"messages\"] else \"\"\n",
    "    else:\n",
    "         last_user = None\n",
    "         \n",
    "    for msg in reversed(state[\"messages\"]):\n",
    "    \n",
    "        if isinstance(msg, HumanMessage) and \"identification number\" not in msg.content:\n",
    "            last_user = msg.content\n",
    "            break\n",
    "   \n",
    "    if query == \"\":\n",
    "        query = last_user or \"\"\n",
    "    \n",
    "    print(\"************below is my query********************\")\n",
    "    print(query or \"NO query\")\n",
    "\n",
    "\n",
    "    print(\"before,\")\n",
    "      \n",
    "    response = groq_model.with_structured_output(Router).invoke(messages)\n",
    "\n",
    "    print(\"vbnm,\")\n",
    "    \n",
    "    goto = response.next\n",
    "    \n",
    "    print(\"********************************this is my goto*************************\")\n",
    "    print(goto)\n",
    "    \n",
    "    print(\"********************************\")\n",
    "    # print(response[\"reasoning\"])\n",
    "    print(\"workinggg\",response.reasoning)\n",
    "\n",
    "        \n",
    "    print(\"**************************below is my state****************************\")\n",
    "    print(state)\n",
    "\n",
    "    new_history = state[\"messages\"]\n",
    "    # if this was a fresh user turn, tack it on:\n",
    "    if query and (not state.get(\"query\") == query):\n",
    "        new_history = new_history + [HumanMessage(query)]\n",
    "\n",
    "    \n",
    "   # 5) Return with the full history preserved\n",
    "    return Command(\n",
    "        goto=goto if goto != \"FINISH\" else END,\n",
    "        update={\n",
    "            \"next\": goto,\n",
    "            \"query\": query,\n",
    "            \"current_reasoning\": response.reasoning,\n",
    "            \"messages\": new_history\n",
    "        }\n",
    "    )"
   ]
  },
  {
   "cell_type": "code",
   "execution_count": 204,
   "metadata": {},
   "outputs": [],
   "source": [
    "\n",
    "from langchain_core.prompts import ChatPromptTemplate, MessagesPlaceholder\n",
    "\n",
    "def information_node(state:AgentState) -> Command[Literal['supervisor']]:\n",
    "    \n",
    "    print(\"*****************called information node************\")\n",
    "    \n",
    "    # system_prompt = \"You are specialized agent to provide information related to availability of doctors or any FAQs related to hospital based on the query. You have access to the tool.\\n Make sure to ask user politely if you need any further information to execute the tool.\\n For your information, Always consider current year is 2024.\"\n",
    "    \n",
    "    system_prompt = \"\"\"\n",
    "You are an intelligent hospital agent. Your job is to help users check availability of doctors \n",
    "using the tools provided. Always be polite, and if the requested slot is unavailable, suggest alternatives.\n",
    "Assume the current year is 2024.\n",
    "\"\"\"\n",
    "\n",
    "    system_prompt = ChatPromptTemplate.from_messages(\n",
    "    [\n",
    "        (\"system\", system_prompt),\n",
    "        MessagesPlaceholder(variable_name=\"messages\"),\n",
    "    ]\n",
    ")\n",
    "    \n",
    "    # information_agent = create_react_agent(model=groq_model,tools=[check_availability_by_doctor,check_availability_by_specialization] ,prompt=system_prompt)\n",
    "    \n",
    "    information_agent = create_react_agent(\n",
    "        model=groq_model, \n",
    "        tools=[check_availability_by_doctor, check_availability_by_specialization],\n",
    "        prompt=system_prompt\n",
    "    )\n",
    "\n",
    "    result = information_agent.invoke({\"messages\": state[\"messages\"]})\n",
    "\n",
    "\n",
    "\n",
    "    print(\"checking : \",result[\"messages\"])\n",
    "\n",
    "\n",
    "    state[\"messages\"].append(AIMessage(content=result['messages'][-1].content, name=\"information_node\"))\n",
    "    \n",
    "    return Command(update={\"messages\": state[\"messages\"]}, goto=\"supervisor\")\n",
    "\n",
    " # Check tool outputs (in final tool_call or parsed content)\n",
    "    # last_response = result[\"messages\"][-1].content.lower()\n",
    "\n",
    "    # # 💡 Naive way to check if slot is unavailable in tool output or final message\n",
    "    # if \"not available\" in last_response or \"unavailable\" in last_response:\n",
    "    #     # ✅ Tell user what happened and exit\n",
    "    #     state[\"messages\"].append(AIMessage(content=(\n",
    "    #         \"Unfortunately, the requested slot seems to be unavailable. \"\n",
    "    #         \"I've listed some available alternatives above. \"\n",
    "    #         \"Let me know if you'd like to try booking another time.\"\n",
    "    #     )))\n",
    "    #     return Command(update={\"messages\": state[\"messages\"]}, goto=\"supervisor\")\n",
    "\n",
    "    # # ✅ If response includes a confirmation (slot found), move to booking_node\n",
    "    # elif \"available\" in last_response and \"slot\" in last_response:\n",
    "    #     state[\"messages\"].append(AIMessage(content=\"Great! The slot is available, proceeding to booking.\"))\n",
    "    #     return Command(update={\"messages\": state[\"messages\"]}, goto=\"supervisor\")\n",
    "\n",
    "    # # 🤷 Fallback — supervisor handles confusion\n",
    "    # return Command(update={\"messages\": state[\"messages\"]}, goto=\"supervisor\")\n",
    "    \n",
    "    # return Command(\n",
    "    #     update={\n",
    "    #         \"messages\": state[\"messages\"] + [\n",
    "    #             AIMessage(content=result[\"messages\"][-1].content, name=\"information_node\")\n",
    "                \n",
    "    #             #HumanMessage(content=result[\"messages\"][-1].content, name=\"information_node\")\n",
    "    #         ]\n",
    "            \n",
    "\n",
    "    #     },\n",
    "    #     goto=\"supervisor\",\n",
    "    # )"
   ]
  },
  {
   "cell_type": "code",
   "execution_count": 205,
   "metadata": {},
   "outputs": [],
   "source": [
    "def booking_node(state:AgentState) ->  Command[Literal['supervisor']]:\n",
    "    \n",
    "    print(\"*****************called booking node************\")\n",
    "    \n",
    "    system_prompt = \"You are specialized agent to set, cancel or reschedule appointment based on the query. You have access to the tool.\\n Make sure to ask user politely if you need any further information to execute the tool.\\n For your information, Always consider current year is 2024.\"\n",
    "    \n",
    "    prompt = ChatPromptTemplate.from_messages([\n",
    "        (\"system\", system_prompt),\n",
    "        MessagesPlaceholder(variable_name=\"messages\")\n",
    "    ])\n",
    "    booking_agent = create_react_agent(model=groq_model,tools=[set_appointment,cancel_appointment,reschedule_appointment],prompt=prompt)\n",
    "\n",
    "    result = booking_agent.invoke(state)\n",
    "    \n",
    "    return Command(\n",
    "        update={\n",
    "            \"messages\": state[\"messages\"] + [\n",
    "                AIMessage(content=result[\"messages\"][-1].content, name=\"booking_node\")\n",
    "                #HumanMessage(content=result[\"messages\"][-1].content, name=\"booking_node\")\n",
    "            ]\n",
    "        },\n",
    "        goto=\"supervisor\",\n",
    "    )"
   ]
  },
  {
   "cell_type": "code",
   "execution_count": null,
   "metadata": {},
   "outputs": [],
   "source": [
    "# def booking_node(state: AgentState) -> Command[Literal[\"supervisor\"]]:\n",
    "#     print(\"*****************called booking node************\")\n",
    "#     system_message = \"\"\"\n",
    "# You are the booking agent. When the user asks to book you MUST:\n",
    "# 1) Extract id_number (integer),\n",
    "# 2) Extract doctor_name or specialization (string),\n",
    "# 3) Extract desired_date in “YYYY-MM-DD HH:MM” (24h) format.\n",
    "# If any piece is missing, ask a follow‑up. Once you have all three, reply exactly:\n",
    "# CALL_FUNCTION\n",
    "# and then generate the final set_appointment tool‑call.\n",
    "# \"\"\"\n",
    "\n",
    "#     prompt = ChatPromptTemplate.from_messages([\n",
    "#         (\"system\", system_message),\n",
    "#         MessagesPlaceholder(variable_name=\"messages\")\n",
    "#     ])\n",
    "\n",
    "#     booking_agent = create_react_agent(\n",
    "#         model=groq_model,\n",
    "#         tools=[set_appointment, cancel_appointment, reschedule_appointment],\n",
    "#         prompt=prompt\n",
    "#     )\n",
    "\n",
    "#     # 1) confirm extraction\n",
    "#     confirmation = booking_agent.invoke({\n",
    "#         \"messages\": state[\"messages\"] + [\n",
    "#             HumanMessage(content=f\"My ID number is {state['id_number']}.\"),\n",
    "#             HumanMessage(content=\"If you have id_number, doctor_name, and desired_date, reply exactly: CALL_FUNCTION.\")\n",
    "#         ]\n",
    "#     })\n",
    "\n",
    "\n",
    "#     print(type(confirmation))\n",
    "#     print(\"conformation :::\",confirmation['messages'])\n",
    "#     state[\"messages\"].append(AIMessage(content=confirmation['messages'][-1].content))\n",
    "\n",
    "#     # 2) only on CALL_FUNCTION call the tool\n",
    "#     if \"CALL_FUNCTION\" in confirmation['messages'][-1].content:\n",
    "#         print(\"INside of call function\")\n",
    "\n",
    "        \n",
    "#         # result = booking_agent.invoke({\"messages\": state[\"messages\"]})\n",
    "#         result = booking_agent.invoke({\n",
    "#     \"messages\": state[\"messages\"] + [\n",
    "#         HumanMessage(content=f\"My ID number is {state['id_number']}.\"),\n",
    "#         HumanMessage(content=\"If you have id_number, doctor_name, and desired_date, reply exactly: CALL_FUNCTION.\")\n",
    "#     ]\n",
    "# })\n",
    "\n",
    "#         state[\"messages\"].append(AIMessage(content=result['messages'][-1].content))\n",
    "\n",
    "#     return Command(update={\"messages\": state[\"messages\"]}, goto=\"supervisor\")\n"
   ]
  },
  {
   "cell_type": "code",
   "execution_count": null,
   "metadata": {},
   "outputs": [],
   "source": []
  },
  {
   "cell_type": "code",
   "execution_count": null,
   "metadata": {},
   "outputs": [],
   "source": []
  },
  {
   "cell_type": "code",
   "execution_count": 306,
   "metadata": {},
   "outputs": [],
   "source": [
    "graph = StateGraph(AgentState)"
   ]
  },
  {
   "cell_type": "code",
   "execution_count": 307,
   "metadata": {},
   "outputs": [
    {
     "data": {
      "text/plain": [
       "<langgraph.graph.state.StateGraph at 0x7b90677bf310>"
      ]
     },
     "execution_count": 307,
     "metadata": {},
     "output_type": "execute_result"
    }
   ],
   "source": [
    "graph.add_node(\"supervisor\", supervisor_node)\n",
    "graph.add_node(\"information_node\", information_node)\n",
    "graph.add_node(\"booking_node\", booking_node)\n",
    "graph.add_node(\"confirmation_node\", confirmation_node)"
   ]
  },
  {
   "cell_type": "code",
   "execution_count": 308,
   "metadata": {},
   "outputs": [],
   "source": [
    "# graph.add_edge(\"supervisor\", \"confirmation_node\")\n",
    "\n"
   ]
  },
  {
   "cell_type": "code",
   "execution_count": 309,
   "metadata": {},
   "outputs": [
    {
     "data": {
      "text/plain": [
       "<langgraph.graph.state.StateGraph at 0x7b90677bf310>"
      ]
     },
     "execution_count": 309,
     "metadata": {},
     "output_type": "execute_result"
    }
   ],
   "source": [
    "graph.add_edge(START, \"supervisor\")"
   ]
  },
  {
   "cell_type": "code",
   "execution_count": 310,
   "metadata": {},
   "outputs": [],
   "source": [
    "app = graph.compile(checkpointer=checkpointer)"
   ]
  },
  {
   "cell_type": "code",
   "execution_count": 311,
   "metadata": {},
   "outputs": [
    {
     "name": "stdout",
     "output_type": "stream",
     "text": [
      "Graph(nodes={'__start__': Node(id='__start__', name='__start__', data=<class 'langchain_core.utils.pydantic.LangGraphInput'>, metadata=None), 'supervisor': Node(id='supervisor', name='supervisor', data=supervisor(tags=None, recurse=True, explode_args=False, func_accepts_config=False, func_accepts={}), metadata=None), 'information_node': Node(id='information_node', name='information_node', data=information_node(tags=None, recurse=True, explode_args=False, func_accepts_config=False, func_accepts={}), metadata=None), 'booking_node': Node(id='booking_node', name='booking_node', data=booking_node(tags=None, recurse=True, explode_args=False, func_accepts_config=False, func_accepts={}), metadata=None), 'confirmation_node': Node(id='confirmation_node', name='confirmation_node', data=confirmation_node(tags=None, recurse=True, explode_args=False, func_accepts_config=False, func_accepts={}), metadata=None), '__end__': Node(id='__end__', name='__end__', data=<class 'langchain_core.utils.pydantic.LangGraphOutput'>, metadata=None)}, edges=[Edge(source='__start__', target='supervisor', data=None, conditional=False), Edge(source='supervisor', target='information_node', data=None, conditional=True), Edge(source='supervisor', target='booking_node', data=None, conditional=True), Edge(source='supervisor', target='confirmation_node', data=None, conditional=True), Edge(source='supervisor', target='__end__', data=None, conditional=True), Edge(source='information_node', target='supervisor', data=None, conditional=True), Edge(source='booking_node', target='supervisor', data=None, conditional=True), Edge(source='confirmation_node', target='supervisor', data=None, conditional=True)])\n"
     ]
    }
   ],
   "source": [
    "graph = app.get_graph()\n",
    "print(graph)"
   ]
  },
  {
   "cell_type": "code",
   "execution_count": 312,
   "metadata": {},
   "outputs": [
    {
     "data": {
      "image/png": "[encoded data removed]",
      "text/plain": [
       "<IPython.core.display.Image object>"
      ]
     },
     "metadata": {},
     "output_type": "display_data"
    }
   ],
   "source": [
    "from IPython.display import Image, display\n",
    "display(Image(app.get_graph().draw_mermaid_png()))"
   ]
  },
  {
   "cell_type": "code",
   "execution_count": 313,
   "metadata": {},
   "outputs": [],
   "source": [
    "inputs = [\n",
    "        HumanMessage(content='can you check and make a booking if general dentist available on 8 August 2024 at 4 PM?')\n",
    "    ]"
   ]
  },
  {
   "cell_type": "code",
   "execution_count": 314,
   "metadata": {},
   "outputs": [],
   "source": [
    "state = {'messages': inputs,'id_number':10232303}\n",
    "\n",
    "# class AgentState(BaseModel):\n",
    "#     messages: Annotated[list[Any], add_messages]\n",
    "#     id_number: int\n",
    "#     next:str\n",
    "#     query: str\n",
    "#     current_reasoning: str"
   ]
  },
  {
   "cell_type": "code",
   "execution_count": 315,
   "metadata": {},
   "outputs": [
    {
     "name": "stdout",
     "output_type": "stream",
     "text": [
      "**************************SUPERVISOR ENTRY****************************\n",
      "Current state: {'messages': [HumanMessage(content='can you check and make a booking if general dentist available on 8 August 2024 at 4 PM?', additional_kwargs={}, response_metadata={})], 'id_number': 10232303}\n",
      "======================================================================\n",
      "Current query: can you check and make a booking if general dentist available on 8 August 2024 at 4 PM?\n",
      "llm calling...\n",
      "🤖 LLM Decision: information_node - Reasoning: User requested to check and book a general dentist appointment on 8 August 2024 at 4 PM. Since the doctor's name isn't specified, first need to check availability through information_node to confirm options before proceeding with booking.\n",
      "*****************INFORMATION NODE CALLED************\n",
      "Information agent result: This availability for 08-08-2024\n",
      "emily johnson. Available slots: \n",
      "8:00 AM, \n",
      "8:30 AM, \n",
      "10:00 AM, \n",
      "10:30 AM, \n",
      "11:00 AM, \n",
      "11:30 AM, \n",
      "12:00 PM, \n",
      "12:30 PM, \n",
      "1:30 PM, \n",
      "2:30 PM, \n",
      "3:30 PM, \n",
      "4:30 PM\n",
      "john doe. Available slots: \n",
      "8:00 AM, \n",
      "9:00 AM, \n",
      "9:30 AM, \n",
      "10:00 AM, \n",
      "12:00 PM, \n",
      "1:30 PM, \n",
      "2:00 PM, \n",
      "3:00 PM, \n",
      "3:30 PM, \n",
      "4:30 PM\n",
      "\n",
      "next..\n",
      "next..2\n",
      "**************************SUPERVISOR ENTRY****************************\n",
      "Current state: {'messages': [HumanMessage(content='can you check and make a booking if general dentist available on 8 August 2024 at 4 PM?', additional_kwargs={}, response_metadata={}, id='e405c680-90ad-4e5d-a8ce-28a786d426de'), AIMessage(content='This availability for 08-08-2024\\nemily johnson. Available slots: \\n8:00 AM, \\n8:30 AM, \\n10:00 AM, \\n10:30 AM, \\n11:00 AM, \\n11:30 AM, \\n12:00 PM, \\n12:30 PM, \\n1:30 PM, \\n2:30 PM, \\n3:30 PM, \\n4:30 PM\\njohn doe. Available slots: \\n8:00 AM, \\n9:00 AM, \\n9:30 AM, \\n10:00 AM, \\n12:00 PM, \\n1:30 PM, \\n2:00 PM, \\n3:00 PM, \\n3:30 PM, \\n4:30 PM\\n', additional_kwargs={}, response_metadata={}, name='information_node')], 'id_number': 10232303, 'next': 'information_node', 'query': 'can you check and make a booking if general dentist available on 8 August 2024 at 4 PM?', 'current_reasoning': \"User requested to check and book a general dentist appointment on 8 August 2024 at 4 PM. Since the doctor's name isn't specified, first need to check availability through information_node to confirm options before proceeding with booking.\"}\n",
      "======================================================================\n",
      "Current query: This availability for 08-08-2024\n",
      "emily johnson. Available slots: \n",
      "8:00 AM, \n",
      "8:30 AM, \n",
      "10:00 AM, \n",
      "10:30 AM, \n",
      "11:00 AM, \n",
      "11:30 AM, \n",
      "12:00 PM, \n",
      "12:30 PM, \n",
      "1:30 PM, \n",
      "2:30 PM, \n",
      "3:30 PM, \n",
      "4:30 PM\n",
      "john doe. Available slots: \n",
      "8:00 AM, \n",
      "9:00 AM, \n",
      "9:30 AM, \n",
      "10:00 AM, \n",
      "12:00 PM, \n",
      "1:30 PM, \n",
      "2:00 PM, \n",
      "3:00 PM, \n",
      "3:30 PM, \n",
      "4:30 PM\n",
      "\n",
      "llm calling...\n",
      "🤖 LLM Decision: confirmation_node - Reasoning: User requested 4:00 PM slot which isn't available. Available slots closest to requested time are 3:30 PM and 4:30 PM. Need explicit user confirmation before proceeding with booking.\n",
      "000000000000=-------inside pf confumation node------------\n"
     ]
    }
   ],
   "source": [
    "result = app.invoke(state)"
   ]
  },
  {
   "cell_type": "code",
   "execution_count": null,
   "metadata": {},
   "outputs": [],
   "source": []
  },
  {
   "cell_type": "code",
   "execution_count": null,
   "metadata": {},
   "outputs": [],
   "source": []
  },
  {
   "cell_type": "code",
   "execution_count": null,
   "metadata": {},
   "outputs": [],
   "source": [
    "  "
   ]
  }
 ],
 "metadata": {
  "kernelspec": {
   "display_name": "Python 3",
   "language": "python",
   "name": "python3"
  },
  "language_info": {
   "codemirror_mode": {
    "name": "ipython",
    "version": 3
   },
   "file_extension": ".py",
   "mimetype": "text/x-python",
   "name": "python",
   "nbconvert_exporter": "python",
   "pygments_lexer": "ipython3",
   "version": "3.10.16"
  }
 },
 "nbformat": 4,
 "nbformat_minor": 2
}
